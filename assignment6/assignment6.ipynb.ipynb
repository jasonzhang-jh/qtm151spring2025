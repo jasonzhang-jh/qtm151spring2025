{
 "cells": [
  {
   "attachments": {},
   "cell_type": "markdown",
   "metadata": {},
   "source": [
    "# Assignment 6"
   ]
  },
  {
   "attachments": {},
   "cell_type": "markdown",
   "metadata": {},
   "source": [
    "## Try to submit as an HTML file"
   ]
  },
  {
   "attachments": {},
   "cell_type": "markdown",
   "metadata": {},
   "source": [
    "<font size = \"5\">\n",
    "Print your Emory code below"
   ]
  },
  {
   "cell_type": "code",
   "execution_count": null,
   "metadata": {},
   "outputs": [],
   "source": [
    "print(\"2644681\")"
   ]
  },
  {
   "attachments": {},
   "cell_type": "markdown",
   "metadata": {},
   "source": [
    "<font size = \"5\">\n",
    "\n",
    "Import the \"pandas\" and \"matplotlib.pyplot\" libraries"
   ]
  },
  {
   "cell_type": "code",
   "execution_count": 1,
   "metadata": {},
   "outputs": [],
   "source": [
    "# Write your answer here:\n",
    "\n",
    "import pandas as pd\n",
    "import matplotlib.pyplot as plt\n",
    "\n"
   ]
  },
  {
   "attachments": {},
   "cell_type": "markdown",
   "metadata": {},
   "source": [
    "<font size = \"5\">\n",
    "\n",
    "(a) Functions\n",
    "\n",
    "<font size = \"3\">\n",
    "\n",
    "- Read the dataset labelled features.csv.\n",
    "- Create a ``` lambda ``` function that checks if displacement $>$ 200\n",
    "- Create a new list that shows true if displacement $>$ 200 and false <br>\n",
    "if displacement $\\leq$ 200.\n",
    "- Count how many cars have displacement $> 200$.\n",
    "\n",
    "To get full credit use either the apply or the map function <br>\n",
    "(see Lectures 7 and 8)"
   ]
  },
  {
   "cell_type": "code",
   "execution_count": null,
   "metadata": {},
   "outputs": [
    {
     "name": "stdout",
     "output_type": "stream",
     "text": [
      "Number of cars with displacement > 200: 158\n"
     ]
    },
    {
     "data": {
      "text/plain": [
       "0       True\n",
       "1       True\n",
       "2       True\n",
       "3       True\n",
       "4       True\n",
       "       ...  \n",
       "393    False\n",
       "394    False\n",
       "395    False\n",
       "396    False\n",
       "397    False\n",
       "Name: displacement_above_200, Length: 398, dtype: bool"
      ]
     },
     "execution_count": 13,
     "metadata": {},
     "output_type": "execute_result"
    }
   ],
   "source": [
    "# Write your answer here:\n",
    "\n",
    "df = pd.read_csv(\"data/features.csv\")\n",
    "\n",
    "check_displacement = lambda d: d > 200\n",
    "\n",
    "df[\"displacement_above_200\"] = df[\"displacement\"].apply(check_displacement)\n",
    "\n",
    "num_cars_above_200 = df[\"displacement_above_200\"].sum()\n",
    "\n",
    "print(\"Number of cars with displacement > 200:\", num_cars_above_200)\n"
   ]
  },
  {
   "attachments": {},
   "cell_type": "markdown",
   "metadata": {},
   "source": [
    "<font size = \"5\">\n",
    "\n",
    "(b) Subsetting Data\n",
    "\n",
    "<font size = \"3\" >\n",
    "\n",
    "- Read the dataset labelled features.csv.\n",
    "- Define a global variable called ```threshold``` that takes the <br>\n",
    "value 2588\n",
    "- Subset the data to get one dataset with weight $>$ threshold and <br>\n",
    "another with weight $\\le$ 2588. Use the ```.query()``` function.\n",
    "- Compute the mean acceleration for each of these datasets.<br>\n",
    "\n",
    "Note: Review how to define a gloabl variable inside ```.query()```\n",
    " "
   ]
  },
  {
   "cell_type": "code",
   "execution_count": 16,
   "metadata": {},
   "outputs": [
    {
     "name": "stdout",
     "output_type": "stream",
     "text": [
      "Mean acceleration for cars with weight > 2588: 14.972457627118644\n",
      "Mean acceleration for cars with weight ≤ 2588: 16.435802469135798\n"
     ]
    }
   ],
   "source": [
    "df = pd.read_csv(\"data/features.csv\")\n",
    "threshold = 2588\n",
    "\n",
    "df_above = df.query(\"weight > @threshold\")   # Cars with weight > 2588\n",
    "df_below_equal = df.query(\"weight <= @threshold\")  # Cars with weight ≤ 2588\n",
    "\n",
    "mean_acc_above = df_above[\"acceleration\"].mean()\n",
    "mean_acc_below_equal = df_below_equal[\"acceleration\"].mean()\n",
    "\n",
    "print(\"Mean acceleration for cars with weight > 2588:\", mean_acc_above)\n",
    "print(\"Mean acceleration for cars with weight ≤ 2588:\", mean_acc_below_equal)\n",
    "\n",
    "\n"
   ]
  },
  {
   "cell_type": "markdown",
   "metadata": {},
   "source": [
    "<font size = \"5\">\n",
    "\n",
    "(c) Use sorting + \".iloc[]\"\n",
    "\n",
    "<font size = \"3\">\n",
    "\n",
    "- Read the \"fifa23_players_basic.csv\" dataset\n",
    "- Use \".sort_values()\" to order the \"Age\" column <br>\n",
    "from youngest to oldest\n",
    "- Get a subset with the 5 youngest players"
   ]
  },
  {
   "cell_type": "code",
   "execution_count": 18,
   "metadata": {},
   "outputs": [
    {
     "name": "stdout",
     "output_type": "stream",
     "text": [
      "             Full Name  Age\n",
      "17956  Andreas Dithmer   16\n",
      "18014      José Ardila   16\n",
      "16084      Serge Ngoma   16\n",
      "11481      Obed Vargas   16\n",
      "17591  Alan Madaliński   16\n"
     ]
    }
   ],
   "source": [
    "# Write your answer here:\n",
    "\n",
    "df = pd.read_csv(\"data/fifa23_players_basic.csv\")\n",
    "\n",
    "df_sorted = df.sort_values(by=\"Age\", ascending=True)\n",
    "\n",
    "youngest_players = df_sorted.iloc[:5, :]\n",
    "\n",
    "print(youngest_players[[\"Full Name\", \"Age\"]])\n",
    "\n",
    "\n"
   ]
  },
  {
   "cell_type": "markdown",
   "metadata": {},
   "source": [
    "<font size = \"5\">\n",
    "\n",
    "(d) Use queries + global variables\n",
    "\n",
    "<font size = \"3\">\n",
    "\n",
    "- Read the \"fifa23_players_basic.csv\" dataset\n",
    "- Compute the mean of the column \"Wage(in Euro)\" <br>\n",
    "and store it as a variable\n",
    "- Subset the players whose value is above the mean value <br>\n",
    "  using \".query()\"\n",
    "\n",
    "\n",
    "HINT: Remember that there is a special syntax for <br>\n",
    "when the column names have spaces (see Lecture 10) <br>\n",
    "Reference the column as ``` `Wage(in Euro)`    ``` inside .query()"
   ]
  },
  {
   "cell_type": "code",
   "execution_count": null,
   "metadata": {},
   "outputs": [
    {
     "name": "stdout",
     "output_type": "stream",
     "text": [
      "                      Full Name  Wage(in Euro)\n",
      "0                  Lionel Messi         195000\n",
      "1                 Karim Benzema         450000\n",
      "2            Robert Lewandowski         420000\n",
      "3               Kevin De Bruyne         350000\n",
      "4                 Kylian Mbappé         230000\n",
      "...                         ...            ...\n",
      "14279                Adam Lewis          11000\n",
      "15117                Ben Knight          12000\n",
      "15441  Thanawat Suengchitthawon           9000\n",
      "15957              Paul Glatzel          11000\n",
      "16157         Caleb Chukwuemeka           9000\n",
      "\n",
      "[4300 rows x 2 columns]\n"
     ]
    }
   ],
   "source": [
    "\n",
    "df = pd.read_csv(\"data/fifa23_players_basic.csv\")\n",
    "\n",
    "mean_wage = df[\"Wage(in Euro)\"].mean()\n",
    "\n",
    "high_wage_players = df.query(\"`Wage(in Euro)` > @mean_wage\")\n",
    "\n",
    "print(high_wage_players[[\"Full Name\", \"Wage(in Euro)\"]])\n",
    "\n",
    "\n"
   ]
  },
  {
   "cell_type": "markdown",
   "metadata": {},
   "source": [
    "<font size = \"5\">\n",
    "\n",
    "(e) Plot by Category\n",
    "\n",
    "<font size = \"3\">\n",
    "\n",
    "Read the \"data/wdi_urban.csv\" dataset.\n",
    "\n",
    "  This contains data from 1980 and 2020.\n",
    "\n",
    "- **Create a list with the unique values of \"year\"**\n",
    "\n",
    "- **Create a plot with a ...**\n",
    "    - Histogram of \"prop_urbanpopulation\" for each year\n",
    "    - Set the histogram option `alpha = 0.5` for transparency\n",
    "    - All the histograms should be overlapping\n",
    "    - Create a legend with the list of years\n",
    "    - Label the axes and the title\n"
   ]
  },
  {
   "cell_type": "code",
   "execution_count": 21,
   "metadata": {},
   "outputs": [
    {
     "data": {
      "image/png": "[encoded data removed]",
      "text/plain": [
       "<Figure size 1000x600 with 1 Axes>"
      ]
     },
     "metadata": {},
     "output_type": "display_data"
    }
   ],
   "source": [
    "\n",
    "df = pd.read_csv(\"data/wdi_urban.csv\")\n",
    "\n",
    "unique_years = df[\"year\"].unique()\n",
    "\n",
    "plt.figure(figsize=(10, 6))\n",
    "\n",
    "for year in unique_years:\n",
    "    subset = df[df[\"year\"] == year]  \n",
    "    plt.hist(subset[\"prop_urbanpopulation\"], alpha=0.5, label=str(year))  \n",
    "\n",
    "plt.xlabel(\"Proportion of Urban Population\")\n",
    "plt.ylabel(\"Frequency\")\n",
    "plt.title(\"Urban Population Distribution Over Different Years\")\n",
    "plt.legend(title=\"Year\")\n",
    "plt.show()\n",
    "\n",
    "\n"
   ]
  }
 ],
 "metadata": {
  "kernelspec": {
   "display_name": "base",
   "language": "python",
   "name": "python3"
  },
  "language_info": {
   "codemirror_mode": {
    "name": "ipython",
    "version": 3
   },
   "file_extension": ".py",
   "mimetype": "text/x-python",
   "name": "python",
   "nbconvert_exporter": "python",
   "pygments_lexer": "ipython3",
   "version": "3.12.7"
  },
  "orig_nbformat": 4,
  "vscode": {
   "interpreter": {
    "hash": "45fc1f684f6f416f40889115beff3ddf69879b64cf4bfee48cb72a61e9d15d1a"
   }
  }
 },
 "nbformat": 4,
 "nbformat_minor": 2
}
